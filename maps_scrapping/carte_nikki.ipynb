{
 "cells": [
  {
   "cell_type": "markdown",
   "metadata": {},
   "source": [
    "# IMPORTS"
   ]
  },
  {
   "cell_type": "code",
   "execution_count": 1,
   "metadata": {},
   "outputs": [],
   "source": [
    "import time\n",
    "import pandas as pd \n",
    "\n",
    "from selenium import webdriver \n",
    "from selenium.webdriver.support.ui import Select\n",
    "from selenium import webdriver\n",
    "from PIL import Image"
   ]
  },
  {
   "cell_type": "markdown",
   "metadata": {},
   "source": [
    "# CONCTION TO GOOGLE DRIVE"
   ]
  },
  {
   "cell_type": "code",
   "execution_count": 3,
   "metadata": {},
   "outputs": [],
   "source": [
    "import gspread\n",
    "import httplib2\n",
    "import os, io\n",
    "import argparse\n",
    "import auth\n",
    "\n",
    "\n",
    "from httplib2 import Http\n",
    "from oauth2client import file,client, tools\n",
    "from googleapiclient import discovery\n",
    "from googleapiclient.http import MediaFileUpload, MediaIoBaseDownload\n",
    "from oauth2client.service_account import ServiceAccountCredentials\n",
    "\n",
    "SCOPES = ['https://spreadsheets.google.com/feeds',\n",
    "         'https://www.googleapis.com/auth/drive',\n",
    "         'https://www.googleapis.com/auth/drive.file',\n",
    "         'https://www.googleapis.com/auth/spreadsheets.currentonly',\n",
    "         'https://www.googleapis.com/auth/spreadsheets',\n",
    "         'https://www.googleapis.com/auth/presentations',\n",
    "         'https://www.googleapis.com/auth/drive.scripts',\n",
    "         'https://www.googleapis.com/auth/drive.appdata',\n",
    "         'https://www.googleapis.com/auth/drive.metadata'\n",
    "        ]\n",
    "store = file.Storage('/Users/5danalfaro/OAN/credentials/storage.json')\n",
    "creds = store.get()\n",
    "if not creds or creds.invalid:\n",
    "    flow = client.flow_from_clientsecrets('/Users/5danalfaro/OAN/credentials/storage.json', SCOPES)\n",
    "    creds = tools.run_flow(flow, store)\n",
    "drive_service = discovery.build('drive', 'v3', http=creds.authorize(Http()))"
   ]
  },
  {
   "cell_type": "markdown",
   "metadata": {},
   "source": [
    "# Global variables\n",
    "\n",
    "Folder to upload files"
   ]
  },
  {
   "cell_type": "code",
   "execution_count": 4,
   "metadata": {},
   "outputs": [],
   "source": [
    "drive_folder='12nPlS3tkFe5z-r-jobf9jJi-LbMDkzV6'"
   ]
  },
  {
   "cell_type": "markdown",
   "metadata": {},
   "source": [
    "# Functions"
   ]
  },
  {
   "cell_type": "markdown",
   "metadata": {},
   "source": [
    "function to uplad files to google drive"
   ]
  },
  {
   "cell_type": "code",
   "execution_count": 5,
   "metadata": {},
   "outputs": [],
   "source": [
    "'''\n",
    "filename -> name of the file in drive\n",
    "filepath -> path of the local file\n",
    "folder_id -> id of the drive folder where you want to put the file \n",
    "filetype -> text/csv\n",
    "fileapp: application/vnd.google-apps.spreadsheet\n",
    "'''\n",
    "\n",
    "def uploadFile(filename,filepath,folder_id,filetype,fileapp):    \n",
    "    file_metadata = { 'name': filename,\n",
    "                      'parents': [folder_id],\n",
    "                      'mimeType': fileapp,\n",
    "                    }  \n",
    "                                                  \n",
    "                             \n",
    "\n",
    "    media = MediaFileUpload(filepath,\n",
    "                            mimetype=filetype)\n",
    "    file = drive_service.files().create(body=file_metadata,\n",
    "                                        media_body=media,\n",
    "                                        fields='id').execute()"
   ]
  },
  {
   "cell_type": "code",
   "execution_count": 6,
   "metadata": {},
   "outputs": [],
   "source": [
    "def crop(image_path, coords, saved_location):\n",
    "    \"\"\"\n",
    "    @param image_path: The path to the image to edit\n",
    "    @param coords: A tuple of x/y coordinates (x1, y1, x2, y2)\n",
    "    @param saved_location: Path to save the cropped image\n",
    "    \"\"\"\n",
    "    image_obj = Image.open(image_path)\n",
    "    cropped_image = image_obj.crop(coords)\n",
    "    cropped_image.save(saved_location)\n",
    "    cropped_image.show()"
   ]
  },
  {
   "cell_type": "markdown",
   "metadata": {},
   "source": [
    "# Open Chrome"
   ]
  },
  {
   "cell_type": "code",
   "execution_count": 7,
   "metadata": {},
   "outputs": [],
   "source": [
    "#driver.close()"
   ]
  },
  {
   "cell_type": "code",
   "execution_count": 36,
   "metadata": {},
   "outputs": [],
   "source": [
    "driver = webdriver.Chrome(executable_path=r'/Users/5danalfaro/OAN/nikki_map_house_count/maps_scrapping/chromedriver')"
   ]
  },
  {
   "cell_type": "markdown",
   "metadata": {},
   "source": [
    "# square"
   ]
  },
  {
   "cell_type": "code",
   "execution_count": 11,
   "metadata": {},
   "outputs": [],
   "source": [
    "# upper left corner\n",
    "u_l_c={\n",
    "'lat':10.2373265,\n",
    "'long':2.7572038\n",
    "} \n",
    "# upper right corner\n",
    "u_r_c={\n",
    "'lat':10.2373265,\n",
    "'long':3.6937883\n",
    "} \n",
    "# lower right corner\n",
    "l_r_c={\n",
    "'lat':9.600178,\n",
    "'long':3.6937883\n",
    "} \n",
    "# lower left corner\n",
    "l_l_c={\n",
    "'lat':9.600178,\n",
    "'long':2.7572038\n",
    "} "
   ]
  },
  {
   "cell_type": "code",
   "execution_count": 12,
   "metadata": {},
   "outputs": [
    {
     "data": {
      "text/plain": [
       "0.9360009360009359"
      ]
     },
     "execution_count": 12,
     "metadata": {},
     "output_type": "execute_result"
    }
   ],
   "source": [
    "104/111.111 "
   ]
  },
  {
   "cell_type": "code",
   "execution_count": 14,
   "metadata": {},
   "outputs": [],
   "source": [
    "size=800\n",
    "lat=10.0644685\n",
    "long=2.8327505\n",
    "\n"
   ]
  },
  {
   "cell_type": "code",
   "execution_count": 37,
   "metadata": {},
   "outputs": [],
   "source": [
    "size=800\n",
    "lat=9.938680538577499\n",
    "long=3.207437961881851"
   ]
  },
  {
   "cell_type": "code",
   "execution_count": 15,
   "metadata": {},
   "outputs": [],
   "source": [
    "horizontal=((u_r_c['long']-u_l_c['long'])*111.111)*1000/size"
   ]
  },
  {
   "cell_type": "code",
   "execution_count": 16,
   "metadata": {},
   "outputs": [],
   "source": [
    "vertical=((u_r_c['lat']-l_r_c['lat'])*111.111)*1000/size"
   ]
  },
  {
   "cell_type": "code",
   "execution_count": 17,
   "metadata": {},
   "outputs": [
    {
     "data": {
      "text/plain": [
       "11511.231014892526"
      ]
     },
     "execution_count": 17,
     "metadata": {},
     "output_type": "execute_result"
    }
   ],
   "source": [
    "horizontal*vertical"
   ]
  },
  {
   "cell_type": "code",
   "execution_count": 38,
   "metadata": {},
   "outputs": [],
   "source": [
    "url=('''https://www.google.com/maps/@'''+\n",
    "     str(lat)+','+str(long)+''','''+str(size)+'''m/data=!3m1!1e3'''\n",
    "     )"
   ]
  },
  {
   "cell_type": "code",
   "execution_count": 39,
   "metadata": {},
   "outputs": [],
   "source": [
    "driver.get(url)"
   ]
  },
  {
   "cell_type": "code",
   "execution_count": 40,
   "metadata": {},
   "outputs": [],
   "source": [
    "driver.implicitly_wait(1000)"
   ]
  },
  {
   "cell_type": "code",
   "execution_count": 41,
   "metadata": {},
   "outputs": [],
   "source": [
    "driver.find_elements_by_class_name(\"maps-sprite-common-chevron-left\")[0].click()"
   ]
  },
  {
   "cell_type": "code",
   "execution_count": 42,
   "metadata": {},
   "outputs": [],
   "source": [
    "driver.find_elements_by_class_name('widget-pane-toggle-button')[0].click()"
   ]
  },
  {
   "cell_type": "code",
   "execution_count": 43,
   "metadata": {},
   "outputs": [],
   "source": [
    "driver.find_elements_by_class_name('widget-consent-button-later')[0].click()"
   ]
  },
  {
   "cell_type": "code",
   "execution_count": 48,
   "metadata": {},
   "outputs": [
    {
     "data": {
      "text/plain": [
       "True"
      ]
     },
     "execution_count": 48,
     "metadata": {},
     "output_type": "execute_result"
    }
   ],
   "source": [
    "driver.save_screenshot('9_example.png')"
   ]
  },
  {
   "cell_type": "code",
   "execution_count": 49,
   "metadata": {},
   "outputs": [],
   "source": [
    "crop('9_example.png',(40, 100, 2500, 1300),'9_cropped.png')"
   ]
  },
  {
   "cell_type": "code",
   "execution_count": 127,
   "metadata": {},
   "outputs": [],
   "source": [
    "lat=lat+600/111111\n",
    "long=2.8327505"
   ]
  },
  {
   "cell_type": "code",
   "execution_count": 133,
   "metadata": {},
   "outputs": [],
   "source": [
    "crop('2_example.png',(40, 100, 2500, 1300),'2_cropped.png')"
   ]
  },
  {
   "cell_type": "code",
   "execution_count": 33,
   "metadata": {},
   "outputs": [],
   "source": [
    "urls=[]"
   ]
  },
  {
   "cell_type": "code",
   "execution_count": 34,
   "metadata": {},
   "outputs": [],
   "source": [
    "\n",
    "urls.append('''https://www.google.com/maps/@'''+\n",
    "     str(lat)+','+str(long)+''','''+str(size)+'''m/data=!3m1!1e3'''\n",
    "     )\n",
    "lat=10.0644685\n",
    "long=2.8423642\n",
    "urls.append('''https://www.google.com/maps/@'''+\n",
    "     str(lat)+','+str(long)+''','''+str(size)+'''m/data=!3m1!1e3'''\n",
    "     )"
   ]
  },
  {
   "cell_type": "code",
   "execution_count": null,
   "metadata": {},
   "outputs": [],
   "source": [
    "2.8416235000900003"
   ]
  },
  {
   "cell_type": "code",
   "execution_count": 63,
   "metadata": {},
   "outputs": [
    {
     "data": {
      "text/plain": [
       "2.8417135001800005"
      ]
     },
     "execution_count": 63,
     "metadata": {},
     "output_type": "execute_result"
    }
   ],
   "source": [
    "2.8416235000900003+10/111111"
   ]
  },
  {
   "cell_type": "code",
   "execution_count": 35,
   "metadata": {},
   "outputs": [],
   "source": [
    "lat=10.0644685\n",
    "long=2.8327505\n",
    "for i in range(6):\n",
    "    url=('''https://www.google.com/maps/@'''+\n",
    "     str(lat)+','+str(long)+''','''+str(size)+'''m/data=!3m1!1e3'''\n",
    "     )\n",
    "    driver.get(url)\n",
    "    driver.implicitly_wait(5000)\n",
    "    time.sleep(2)\n",
    "    driver.find_elements_by_class_name('widget-pane-toggle-button')[0].click()\n",
    "    driver.find_elements_by_class_name('widget-consent-button-later')[0].click()\n",
    "    driver.save_screenshot(str(i)+'_example.png')\n",
    "    a=crop(str(i)+'_example.png',(40, 100, 1200, 800),str(i)+'_cropped.png')\n",
    "    long=long+(2.8417135001800005-2.8327505)"
   ]
  },
  {
   "cell_type": "code",
   "execution_count": null,
   "metadata": {},
   "outputs": [],
   "source": [
    "lat=10.0644685\n",
    "long=2.8327505\n",
    "\n",
    "url=('''https://www.google.com/maps/@'''+\n",
    "     str(lat)+','+str(long)+''','''+str(size)+'''m/data=!3m1!1e3'''\n",
    "     )\n",
    "\n",
    "driver.get(url)\n",
    "\n",
    "driver.find_elements_by_class_name('widget-pane-toggle-button')[0].click()\n",
    "\n",
    "driver.find_elements_by_class_name('widget-consent-button-later')[0].click()\n",
    "\n",
    "driver.save_screenshot('example_2.png')\n",
    "\n",
    "def crop(image_path, coords, saved_location):\n",
    "    \"\"\"\n",
    "    @param image_path: The path to the image to edit\n",
    "    @param coords: A tuple of x/y coordinates (x1, y1, x2, y2)\n",
    "    @param saved_location: Path to save the cropped image\n",
    "    \"\"\"\n",
    "    image_obj = Image.open(image_path)\n",
    "    cropped_image = image_obj.crop(coords)\n",
    "    cropped_image.save(saved_location)\n",
    "    cropped_image.show()\n",
    "\n",
    "crop('example.png',(40, 100, 1200, 1354),'cropped_3.png')"
   ]
  },
  {
   "cell_type": "code",
   "execution_count": 38,
   "metadata": {},
   "outputs": [],
   "source": [
    "#click = driver.find_element_by_xpath('button')"
   ]
  },
  {
   "cell_type": "code",
   "execution_count": null,
   "metadata": {},
   "outputs": [],
   "source": []
  },
  {
   "cell_type": "markdown",
   "metadata": {},
   "source": [
    "# SECOND TRY"
   ]
  },
  {
   "cell_type": "code",
   "execution_count": null,
   "metadata": {},
   "outputs": [],
   "source": [
    "url=(https://www.google.com/maps/d/edit?mid=1MtbdRCmYDSSSWThGlJ_ZYkJhvRczLeBl&ll=10.115439676958355%2C2.8987132496481536&z=18)\n"
   ]
  },
  {
   "cell_type": "markdown",
   "metadata": {},
   "source": [
    "# Get each table and save the info in drive"
   ]
  },
  {
   "cell_type": "code",
   "execution_count": 644,
   "metadata": {},
   "outputs": [
    {
     "name": "stdout",
     "output_type": "stream",
     "text": [
      "1º GITI - Grupo M1 (Turno Mañana)\n",
      "1º GITI - Grupo M2 (Turno Mañana)\n",
      "1º GITI - Grupo M3 (Turno Mañana)\n",
      "1º GITI - Grupo T1 (Turno Tarde)\n",
      "1º GITI - Grupo T2 (Turno Tarde)\n",
      "1º GITI - Grupo T3 (Turno Tarde)\n",
      "2º GITI - Grupo M1 (Turno Mañana)\n",
      "2º GITI - Grupo M2 (Turno Mañana)\n",
      "2º GITI - Grupo M3 (Turno Mañana)\n",
      "2º GITI - Grupo T1 (Turno Tarde)\n",
      "2º GITI - Grupo T2 (Turno Tarde)\n",
      "2º GITI - Grupo T3 (Turno Tarde)\n",
      "3º GITI - Grupo M1 (Turno Mañana)\n",
      "3º GITI - Grupo M2 (Turno Mañana)\n",
      "3º GITI - Grupo M3 (Turno Mañana)\n",
      "3º GITI - Grupo T1 (Turno Tarde)\n",
      "3º GITI - Grupo T2 (Turno Tarde)\n",
      "3º GITI - Especialidad Automática y Electrónica\n",
      "3º GITI - Especialidad Ingeniería Eléctrica\n",
      "3º GITI - Especialidad Construcción\n",
      "3º GITI - Especialidad Ingeniería Mecánica\n",
      "3º GITI - Especialidad Materiales\n",
      "3º GITI - Especialidad Organización Industrial\n",
      "3º GITI - Especialidad Química y Medio Ambiente\n",
      "3º GITI - Especialidad Técnicas Energéticas\n",
      "4º GITI - Grupo M1 (Comunes)\n",
      "4º GITI - Grupo M2 (Comunes)\n",
      "4º GITI - Grupo M3 (Comunes)\n",
      "4º GITI - Grupo T1 (Comunes)\n",
      "4º GITI - Grupo T2 (Comunes)\n",
      "GITI - Asignaturas de Competencias\n",
      "4º GITI - Especialidad Automática y Electrónica\n",
      "4º GITI - Especialidad Ingeniería Eléctrica\n",
      "4º GITI - Especialidad Construcción\n",
      "4º GITI - Especialidad Ingeniería Mecánica\n",
      "4º GITI - Especialidad Materiales\n",
      "4º GITI - Especialidad Organización Industrial (Grupo A)\n",
      "4º GITI - Especialidad Organización Industrial (Grupo B)\n",
      "4º GITI - Especialidad Química y Medio Ambiente\n",
      "4º GITI - Especialidad Técnicas Energéticas\n",
      "06IE. Grado en Ingeniería de la Energía\n",
      "3º GIEn - Turno Mañana\n",
      "4º GIEn - Turno Tarde\n",
      "05IR. Grado en Ingeniería de Organización (plan 2015)\n",
      "1º GIO - Turno Mañana\n",
      "2º GIO - Turno Tarde\n",
      "3º GIO - Turno Mañana\n",
      "4º GIO - Turno Tarde\n",
      "05IQ. Grado en Ingeniería Química\n",
      "1º GIQ - Turno Mañana\n",
      "2º GIQ - Turno Tarde\n",
      "3º GIQ - Turno Mañana\n",
      "4º GIQ - Turno Tarde\n",
      "05AZ. Máster Universitario en Ingeniería Industrial\n",
      "1º MII Perfil I - Grupo M1 (Turno Mañana)\n",
      "1º MII Perfil I - Grupo M2 (Turno Mañana)\n",
      "1º MII Perfil I - Grupo M3 (Turno Mañana)\n",
      "1º MII Perfil I - Grupo M4 (Turno Mañana)\n",
      "1º MII Perfil I - Grupo M5 (Turno Mañana)\n",
      "1º MII Perfil II - Grupo M6 (Turno Mañana)\n",
      "2º MII Perfil I - Grupo T1 (Turno Tarde)\n",
      "2º MII Perfil II - Grupo T2 (Turno Tarde)\n",
      "MII - Asignaturas de Competencias (Bimestrales)\n",
      "MII - Asignaturas de Competencias (Semestrales)\n",
      "2º MII Especialidad Automática y Electrónica. Automática\n",
      "2º MII Especialidad Automática y Electrónica. Electrónica\n",
      "2º MII Especialidad Ingeniería Eléctrica\n",
      "2º MII Especialidad Construcción\n",
      "2º MII Especialidad Ingeniería Mecánica. Fabricación\n",
      "2º MII Especialidad Ingeniería Mecánica. Máquinas\n",
      "2º MII Especialidad Ingeniería Mecánica. Transportes\n",
      "2º MII Especialidad Materiales\n",
      "2º MII Especialidad Organización Industrial\n",
      "2º MII Especialidad Ingeniería Química\n",
      "2º MII Especialidad Técnicas Energéticas\n",
      "05BC. Máster Universitario en Ingeniería Quimica\n",
      "1º MIQ Perfil I - Turno Tarde\n",
      "2º MIQ (comunes perfil I)\n",
      "2º MIQ. Especialidad Gestión Ambiental\n",
      "2º MIQ. Especialidad Materiales\n",
      "2º MIQ. Especialidad Biotecnología\n",
      "2º MIQ. Especialidad Procesos\n",
      "05BJ. Máster Universitario en Ingeniería Ambiental (plan 2018)\n",
      "Máster Universitario en Ingeniería Ambiental\n",
      "05AQ. Máster Universitario en Economía y Gestión de la Innovación\n",
      "Máster Universitario en Economía y Gestión de la Innovación\n",
      "05AX. Máster Universitario en Ingeniería de la Energía\n",
      "Máster Universitario en Ingeniería de la Energía. Asignaturas comunes\n",
      "Máster Universitario en Ingeniería de la Energía. Itinerario Energía Térmica y de Fluidos\n",
      "Máster Universitario en Ingeniería de la Energía. Itinerario Energía Nuclear\n",
      "Máster Universitario en Ingeniería de la Energía. Itinerario Energías Renovables\n",
      "Máster Universitario en Ingeniería de la Energía. Itinerario Energía del Gas, Petróleo y Carbón\n",
      "Máster Universitario en Ingeniería de la Energía. Itinerario Gestión y Mercados Energéticos\n",
      "05AT. Máster Universitario en Ingeniería Mecánica\n",
      "Máster Universitario en Ingeniería Mecánica\n",
      "05BD. Máster Universitario en Ingeniería de la Organización\n",
      "1º Máster Universitario en Ingeniería de Organización. Asignaturas comunes\n",
      "2º Máster Universitario en Ingeniería de Organización. Asignaturas comunes\n",
      "05AR. Máster Universitario en Ingeniería Sísmica: Dinámica de Suelos y Estructura\n",
      "Máster Universitario en Ingeniería Sísmica: Dinámica de Suelos y Estructuras\n",
      "05BH. Máster Universitario en Automática y Robótica (plan 2017)\n",
      "Máster Universitario en Automática y Robótica\n",
      "59AE. Master Universitario en Ingenieria Acustica\n",
      "Master Universitario en Ingenieria Acustica\n",
      "05BE. Máster Universitario en Ingeniería Eléctrica (plan 2017)\n",
      "Máster Universitario en Ingeniería Eléctrica\n",
      "05BG. Máster Universitario en Electrónica Industrial (plan 2017)\n",
      "Máster Universitario en Electrónica Industrial\n",
      "05BF. Máster Universitario en Ciencia y Tecnología Nuclear (plan 2017)\n",
      "Máster Universitario en Ciencia y Tecnología Nuclear\n"
     ]
    }
   ],
   "source": [
    "#Loop to every option and get each table\n",
    "for j in range(len(s1.options)):\n",
    "    #there is no info in the first option\n",
    "    if(j==0):\n",
    "        continue\n",
    "    #every iteration get the page again\n",
    "    driver.get(\"https://podapp.industriales.upm.es/web/horarios.php\")\n",
    "    #wait until information is shown up and select the dropdown\n",
    "    driver.implicitly_wait(1000)\n",
    "    s1= Select(driver.find_element_by_id('titulacion-select'))\n",
    "    driver.implicitly_wait(1000)\n",
    "    \n",
    "    #get the info of that dropdown\n",
    "    clase=s1.options[j].text\n",
    "    print(clase)\n",
    "    \n",
    "    #create a folder with this name\n",
    "    clase_folder=CreateFolder(clase, drive_folder)\n",
    "    driver.implicitly_wait(1000)\n",
    "    \n",
    "    #select the dropdown with that index\n",
    "    s1.select_by_index(j)\n",
    "    driver.implicitly_wait(2000)\n",
    "    \n",
    "    #get all the tables of the page\n",
    "    tables=driver.find_elements_by_tag_name(\"table\")\n",
    "    \n",
    "    #get all the labels\n",
    "    names=driver.find_elements_by_tag_name(\"span\")\n",
    "    \n",
    "    for i,table in enumerate(tables):\n",
    "        table.text\n",
    "        \n",
    "        #get all elements of the table\n",
    "        td_elements=table.find_elements_by_tag_name(\"td\")\n",
    "        \n",
    "        #save them in a list\n",
    "        l_text_element=[i.text for i in td_elements]\n",
    "        \n",
    "        #save them in a dataframe\n",
    "        if len(l_text_element[0:4][2]) >2 :\n",
    "            dataframe = []\n",
    "            row = []\n",
    "            #Teachers\n",
    "            if(i%2==1):\n",
    "                for z,item in enumerate(l_text_element[4:]):\n",
    "                    if(z%4==0 and int(z/4)>0):\n",
    "                        dataframe.append(row)\n",
    "                        row = []\n",
    "                    row.append(str(item))\n",
    "\n",
    "                #There is an re-organisation of the table in the iteration 3 of each course\n",
    "                if(i==3):\n",
    "                    dataframe.append(row)\n",
    "                    if len(dataframe[0])>1 :\n",
    "                        df_profes=pd.DataFrame(dataframe,columns=['Profesores','Docencia','Aulas','Asignatura'])  \n",
    "                    \n",
    "                else:\n",
    "                    dataframe.append(row)\n",
    "                    if len(dataframe[0])>1 :\n",
    "                        df_profes=pd.DataFrame(dataframe,columns=l_text_element[0:4])\n",
    "\n",
    "                        \n",
    "                    \n",
    "                if len(dataframe[0])>1 :\n",
    "                    if(df_profes.shape[0]>0):\n",
    "                        for line in range(df_horario.shape[0]):\n",
    "                            sub_codes=df_profes['Docencia'].to_list()\n",
    "                            for col in list(df_horario.columns):\n",
    "                                element=df_horario.loc[line,col]\n",
    "                                if (element in sub_codes) and (len(element)>1):\n",
    "                                    df_horario.loc[line,col]=df_profes[df_profes['Docencia']==element]['Asignatura'].values[0]\n",
    "                        \n",
    "                        #save the file and upload\n",
    "                        filename1=str(table_name)+'_profes.csv'\n",
    "                        filename2=str(table_name)+'.csv'\n",
    "                        df_profes.to_csv(filename1,index=False)\n",
    "                        df_horario.to_csv(filename2,index=False)\n",
    "\n",
    "                        uploadFile(filename1,filename1,clase_folder,'text/csv','application/vnd.google-apps.spreadsheet')\n",
    "                        uploadFile(filename2,filename2,clase_folder,'text/csv','application/vnd.google-apps.spreadsheet')\n",
    "                        #clean up\n",
    "                        os.remove(filename1)\n",
    "                        os.remove(filename2)\n",
    "            #Timetable\n",
    "            else:\n",
    "                for z,item in enumerate(l_text_element[6:]):\n",
    "                    if(z%6==0 and int(z/6)>0):\n",
    "                        dataframe.append(row)\n",
    "                        row = []\n",
    "                    row.append(str(item))\n",
    "                dataframe.append(row)\n",
    "                df_table=pd.DataFrame(dataframe,columns=l_text_element[0:6])\n",
    "                df_horario=df_table.copy()\n",
    "                table_name=names[i+1].text[-11:]"
   ]
  }
 ],
 "metadata": {
  "kernelspec": {
   "display_name": "Python 3",
   "language": "python",
   "name": "python3"
  },
  "language_info": {
   "codemirror_mode": {
    "name": "ipython",
    "version": 3
   },
   "file_extension": ".py",
   "mimetype": "text/x-python",
   "name": "python",
   "nbconvert_exporter": "python",
   "pygments_lexer": "ipython3",
   "version": "3.7.3"
  }
 },
 "nbformat": 4,
 "nbformat_minor": 2
}
